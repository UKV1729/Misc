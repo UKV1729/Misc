{
 "cells": [
  {
   "cell_type": "code",
   "execution_count": 1,
   "id": "proud-newfoundland",
   "metadata": {
    "_execution_state": "idle",
    "_uuid": "051d70d956493feee0c6d64651c6a088724dca2a",
    "execution": {
     "iopub.execute_input": "2021-02-13T21:22:27.366296Z",
     "iopub.status.busy": "2021-02-13T21:22:27.364053Z",
     "iopub.status.idle": "2021-02-13T21:22:29.452940Z",
     "shell.execute_reply": "2021-02-13T21:22:29.451124Z"
    },
    "papermill": {
     "duration": 2.102808,
     "end_time": "2021-02-13T21:22:29.453134",
     "exception": false,
     "start_time": "2021-02-13T21:22:27.350326",
     "status": "completed"
    },
    "tags": []
   },
   "outputs": [
    {
     "data": {
      "text/html": [
       "<table class=\"dataframe\">\n",
       "<caption>A data.frame: 6 × 7</caption>\n",
       "<thead>\n",
       "\t<tr><th></th><th scope=col>Age_Raw</th><th scope=col>Age</th><th scope=col>Sex</th><th scope=col>Ethnic_Category</th><th scope=col>IMD_Score_Raw</th><th scope=col>IMD_Group</th><th scope=col>Attend_Status</th></tr>\n",
       "\t<tr><th></th><th scope=col>&lt;int&gt;</th><th scope=col>&lt;fct&gt;</th><th scope=col>&lt;fct&gt;</th><th scope=col>&lt;fct&gt;</th><th scope=col>&lt;dbl&gt;</th><th scope=col>&lt;fct&gt;</th><th scope=col>&lt;fct&gt;</th></tr>\n",
       "</thead>\n",
       "<tbody>\n",
       "\t<tr><th scope=row>1</th><td>73</td><td>70-79</td><td><span style=white-space:pre-wrap>Male  </span></td><td>A</td><td>41.866</td><td><span style=white-space:pre-wrap>&gt;= 34.17   </span></td><td>Attended</td></tr>\n",
       "\t<tr><th scope=row>2</th><td>56</td><td>50-59</td><td>Female</td><td>A</td><td>44.572</td><td><span style=white-space:pre-wrap>&gt;= 34.17   </span></td><td>Attended</td></tr>\n",
       "\t<tr><th scope=row>3</th><td>70</td><td>70-79</td><td>Male  </td><td>A</td><td>16.161</td><td>13.8-21.35 </td><td>Attended</td></tr>\n",
       "\t<tr><th scope=row>4</th><td>27</td><td>20-29</td><td>Female</td><td>A</td><td>12.683</td><td>8.5-13.79  </td><td>Attended</td></tr>\n",
       "\t<tr><th scope=row>5</th><td>65</td><td>60-69</td><td>Female</td><td>A</td><td>14.490</td><td>13.8-21.35 </td><td>Attended</td></tr>\n",
       "\t<tr><th scope=row>6</th><td>61</td><td>60-69</td><td>Female</td><td>A</td><td>23.756</td><td>21.36-34.17</td><td>Attended</td></tr>\n",
       "</tbody>\n",
       "</table>\n"
      ],
      "text/latex": [
       "A data.frame: 6 × 7\n",
       "\\begin{tabular}{r|lllllll}\n",
       "  & Age\\_Raw & Age & Sex & Ethnic\\_Category & IMD\\_Score\\_Raw & IMD\\_Group & Attend\\_Status\\\\\n",
       "  & <int> & <fct> & <fct> & <fct> & <dbl> & <fct> & <fct>\\\\\n",
       "\\hline\n",
       "\t1 & 73 & 70-79 & Male   & A & 41.866 & >= 34.17    & Attended\\\\\n",
       "\t2 & 56 & 50-59 & Female & A & 44.572 & >= 34.17    & Attended\\\\\n",
       "\t3 & 70 & 70-79 & Male   & A & 16.161 & 13.8-21.35  & Attended\\\\\n",
       "\t4 & 27 & 20-29 & Female & A & 12.683 & 8.5-13.79   & Attended\\\\\n",
       "\t5 & 65 & 60-69 & Female & A & 14.490 & 13.8-21.35  & Attended\\\\\n",
       "\t6 & 61 & 60-69 & Female & A & 23.756 & 21.36-34.17 & Attended\\\\\n",
       "\\end{tabular}\n"
      ],
      "text/markdown": [
       "\n",
       "A data.frame: 6 × 7\n",
       "\n",
       "| <!--/--> | Age_Raw &lt;int&gt; | Age &lt;fct&gt; | Sex &lt;fct&gt; | Ethnic_Category &lt;fct&gt; | IMD_Score_Raw &lt;dbl&gt; | IMD_Group &lt;fct&gt; | Attend_Status &lt;fct&gt; |\n",
       "|---|---|---|---|---|---|---|---|\n",
       "| 1 | 73 | 70-79 | Male   | A | 41.866 | &gt;= 34.17    | Attended |\n",
       "| 2 | 56 | 50-59 | Female | A | 44.572 | &gt;= 34.17    | Attended |\n",
       "| 3 | 70 | 70-79 | Male   | A | 16.161 | 13.8-21.35  | Attended |\n",
       "| 4 | 27 | 20-29 | Female | A | 12.683 | 8.5-13.79   | Attended |\n",
       "| 5 | 65 | 60-69 | Female | A | 14.490 | 13.8-21.35  | Attended |\n",
       "| 6 | 61 | 60-69 | Female | A | 23.756 | 21.36-34.17 | Attended |\n",
       "\n"
      ],
      "text/plain": [
       "  Age_Raw Age   Sex    Ethnic_Category IMD_Score_Raw IMD_Group   Attend_Status\n",
       "1 73      70-79 Male   A               41.866        >= 34.17    Attended     \n",
       "2 56      50-59 Female A               44.572        >= 34.17    Attended     \n",
       "3 70      70-79 Male   A               16.161        13.8-21.35  Attended     \n",
       "4 27      20-29 Female A               12.683        8.5-13.79   Attended     \n",
       "5 65      60-69 Female A               14.490        13.8-21.35  Attended     \n",
       "6 61      60-69 Female A               23.756        21.36-34.17 Attended     "
      ]
     },
     "metadata": {},
     "output_type": "display_data"
    }
   ],
   "source": [
    "dat=read.csv('../input/a-not-a/A.csv')\n",
    "head(dat)"
   ]
  },
  {
   "cell_type": "code",
   "execution_count": 2,
   "id": "analyzed-proportion",
   "metadata": {
    "execution": {
     "iopub.execute_input": "2021-02-13T21:22:29.505121Z",
     "iopub.status.busy": "2021-02-13T21:22:29.477304Z",
     "iopub.status.idle": "2021-02-13T21:22:29.795616Z",
     "shell.execute_reply": "2021-02-13T21:22:29.793914Z"
    },
    "papermill": {
     "duration": 0.332079,
     "end_time": "2021-02-13T21:22:29.795792",
     "exception": false,
     "start_time": "2021-02-13T21:22:29.463713",
     "status": "completed"
    },
    "tags": []
   },
   "outputs": [
    {
     "data": {
      "text/html": [
       "<table class=\"dataframe\">\n",
       "<caption>A data.frame: 6 × 7</caption>\n",
       "<thead>\n",
       "\t<tr><th></th><th scope=col>Age_Raw</th><th scope=col>Age</th><th scope=col>Sex</th><th scope=col>Ethnic_Category</th><th scope=col>IMD_Score_Raw</th><th scope=col>IMD_Group</th><th scope=col>Attend_Status</th></tr>\n",
       "\t<tr><th></th><th scope=col>&lt;int&gt;</th><th scope=col>&lt;fct&gt;</th><th scope=col>&lt;fct&gt;</th><th scope=col>&lt;fct&gt;</th><th scope=col>&lt;dbl&gt;</th><th scope=col>&lt;fct&gt;</th><th scope=col>&lt;fct&gt;</th></tr>\n",
       "</thead>\n",
       "<tbody>\n",
       "\t<tr><th scope=row>1</th><td>48</td><td>40-49</td><td>Female</td><td>C </td><td>    NA</td><td>        </td><td>Attended</td></tr>\n",
       "\t<tr><th scope=row>2</th><td>80</td><td>80-89</td><td>Female</td><td>Z </td><td>    NA</td><td>        </td><td>Attended</td></tr>\n",
       "\t<tr><th scope=row>3</th><td>61</td><td>60-69</td><td>Female</td><td>Z </td><td>    NA</td><td>        </td><td>Attended</td></tr>\n",
       "\t<tr><th scope=row>4</th><td>59</td><td>50-59</td><td>Female</td><td>G </td><td>71.072</td><td>&gt;= 34.17</td><td>Attended</td></tr>\n",
       "\t<tr><th scope=row>5</th><td>72</td><td>70-79</td><td>Male  </td><td>99</td><td>    NA</td><td>        </td><td>Attended</td></tr>\n",
       "\t<tr><th scope=row>6</th><td>72</td><td>70-79</td><td>Male  </td><td>99</td><td>    NA</td><td>        </td><td>Attended</td></tr>\n",
       "</tbody>\n",
       "</table>\n"
      ],
      "text/latex": [
       "A data.frame: 6 × 7\n",
       "\\begin{tabular}{r|lllllll}\n",
       "  & Age\\_Raw & Age & Sex & Ethnic\\_Category & IMD\\_Score\\_Raw & IMD\\_Group & Attend\\_Status\\\\\n",
       "  & <int> & <fct> & <fct> & <fct> & <dbl> & <fct> & <fct>\\\\\n",
       "\\hline\n",
       "\t1 & 48 & 40-49 & Female & C  &     NA &          & Attended\\\\\n",
       "\t2 & 80 & 80-89 & Female & Z  &     NA &          & Attended\\\\\n",
       "\t3 & 61 & 60-69 & Female & Z  &     NA &          & Attended\\\\\n",
       "\t4 & 59 & 50-59 & Female & G  & 71.072 & >= 34.17 & Attended\\\\\n",
       "\t5 & 72 & 70-79 & Male   & 99 &     NA &          & Attended\\\\\n",
       "\t6 & 72 & 70-79 & Male   & 99 &     NA &          & Attended\\\\\n",
       "\\end{tabular}\n"
      ],
      "text/markdown": [
       "\n",
       "A data.frame: 6 × 7\n",
       "\n",
       "| <!--/--> | Age_Raw &lt;int&gt; | Age &lt;fct&gt; | Sex &lt;fct&gt; | Ethnic_Category &lt;fct&gt; | IMD_Score_Raw &lt;dbl&gt; | IMD_Group &lt;fct&gt; | Attend_Status &lt;fct&gt; |\n",
       "|---|---|---|---|---|---|---|---|\n",
       "| 1 | 48 | 40-49 | Female | C  |     NA | <!----> | Attended |\n",
       "| 2 | 80 | 80-89 | Female | Z  |     NA | <!----> | Attended |\n",
       "| 3 | 61 | 60-69 | Female | Z  |     NA | <!----> | Attended |\n",
       "| 4 | 59 | 50-59 | Female | G  | 71.072 | &gt;= 34.17 | Attended |\n",
       "| 5 | 72 | 70-79 | Male   | 99 |     NA | <!----> | Attended |\n",
       "| 6 | 72 | 70-79 | Male   | 99 |     NA | <!----> | Attended |\n",
       "\n"
      ],
      "text/plain": [
       "  Age_Raw Age   Sex    Ethnic_Category IMD_Score_Raw IMD_Group Attend_Status\n",
       "1 48      40-49 Female C                   NA                  Attended     \n",
       "2 80      80-89 Female Z                   NA                  Attended     \n",
       "3 61      60-69 Female Z                   NA                  Attended     \n",
       "4 59      50-59 Female G               71.072        >= 34.17  Attended     \n",
       "5 72      70-79 Male   99                  NA                  Attended     \n",
       "6 72      70-79 Male   99                  NA                  Attended     "
      ]
     },
     "metadata": {},
     "output_type": "display_data"
    }
   ],
   "source": [
    "dat1 = read.csv('../input/a-not-a/Not A.csv')\n",
    "head(dat1)"
   ]
  },
  {
   "cell_type": "code",
   "execution_count": 3,
   "id": "binary-offering",
   "metadata": {
    "execution": {
     "iopub.execute_input": "2021-02-13T21:22:29.821868Z",
     "iopub.status.busy": "2021-02-13T21:22:29.820770Z",
     "iopub.status.idle": "2021-02-13T21:22:29.845118Z",
     "shell.execute_reply": "2021-02-13T21:22:29.843727Z"
    },
    "papermill": {
     "duration": 0.038738,
     "end_time": "2021-02-13T21:22:29.845281",
     "exception": false,
     "start_time": "2021-02-13T21:22:29.806543",
     "status": "completed"
    },
    "tags": []
   },
   "outputs": [
    {
     "data": {
      "text/html": [
       "53.5926713113115"
      ],
      "text/latex": [
       "53.5926713113115"
      ],
      "text/markdown": [
       "53.5926713113115"
      ],
      "text/plain": [
       "[1] 53.59267"
      ]
     },
     "metadata": {},
     "output_type": "display_data"
    },
    {
     "data": {
      "text/html": [
       "46.845673945165"
      ],
      "text/latex": [
       "46.845673945165"
      ],
      "text/markdown": [
       "46.845673945165"
      ],
      "text/plain": [
       "[1] 46.84567"
      ]
     },
     "metadata": {},
     "output_type": "display_data"
    }
   ],
   "source": [
    "a = dat$Age_Raw\n",
    "mean(a)\n",
    "b= dat1$Age_Raw\n",
    "mean(b)"
   ]
  },
  {
   "cell_type": "code",
   "execution_count": 4,
   "id": "middle-think",
   "metadata": {
    "execution": {
     "iopub.execute_input": "2021-02-13T21:22:29.874528Z",
     "iopub.status.busy": "2021-02-13T21:22:29.873231Z",
     "iopub.status.idle": "2021-02-13T21:22:29.912775Z",
     "shell.execute_reply": "2021-02-13T21:22:29.911497Z"
    },
    "papermill": {
     "duration": 0.055671,
     "end_time": "2021-02-13T21:22:29.912993",
     "exception": false,
     "start_time": "2021-02-13T21:22:29.857322",
     "status": "completed"
    },
    "tags": []
   },
   "outputs": [
    {
     "data": {
      "text/html": [
       "60"
      ],
      "text/latex": [
       "60"
      ],
      "text/markdown": [
       "60"
      ],
      "text/plain": [
       "[1] 60"
      ]
     },
     "metadata": {},
     "output_type": "display_data"
    },
    {
     "data": {
      "text/html": [
       "50"
      ],
      "text/latex": [
       "50"
      ],
      "text/markdown": [
       "50"
      ],
      "text/plain": [
       "[1] 50"
      ]
     },
     "metadata": {},
     "output_type": "display_data"
    }
   ],
   "source": [
    "median(a)\n",
    "median(b)"
   ]
  },
  {
   "cell_type": "code",
   "execution_count": 5,
   "id": "opposite-swift",
   "metadata": {
    "execution": {
     "iopub.execute_input": "2021-02-13T21:22:29.945608Z",
     "iopub.status.busy": "2021-02-13T21:22:29.943773Z",
     "iopub.status.idle": "2021-02-13T21:22:29.998670Z",
     "shell.execute_reply": "2021-02-13T21:22:29.997141Z"
    },
    "papermill": {
     "duration": 0.072557,
     "end_time": "2021-02-13T21:22:29.998818",
     "exception": false,
     "start_time": "2021-02-13T21:22:29.926261",
     "status": "completed"
    },
    "tags": []
   },
   "outputs": [
    {
     "data": {
      "text/html": [
       "37"
      ],
      "text/latex": [
       "37"
      ],
      "text/markdown": [
       "37"
      ],
      "text/plain": [
       "[1] 37"
      ]
     },
     "metadata": {},
     "output_type": "display_data"
    },
    {
     "data": {
      "text/html": [
       "36"
      ],
      "text/latex": [
       "36"
      ],
      "text/markdown": [
       "36"
      ],
      "text/plain": [
       "[1] 36"
      ]
     },
     "metadata": {},
     "output_type": "display_data"
    }
   ],
   "source": [
    "IQR(a)\n",
    "IQR(b)"
   ]
  },
  {
   "cell_type": "code",
   "execution_count": 6,
   "id": "rising-spirituality",
   "metadata": {
    "execution": {
     "iopub.execute_input": "2021-02-13T21:22:30.033611Z",
     "iopub.status.busy": "2021-02-13T21:22:30.032413Z",
     "iopub.status.idle": "2021-02-13T21:22:30.487289Z",
     "shell.execute_reply": "2021-02-13T21:22:30.486157Z"
    },
    "papermill": {
     "duration": 0.473957,
     "end_time": "2021-02-13T21:22:30.487507",
     "exception": false,
     "start_time": "2021-02-13T21:22:30.013550",
     "status": "completed"
    },
    "tags": []
   },
   "outputs": [
    {
     "data": {
      "image/png": "[encoded data removed]"
     },
     "metadata": {
      "image/png": {
       "height": 420,
       "width": 420
      }
     },
     "output_type": "display_data"
    },
    {
     "data": {
      "image/png": "[encoded data removed]"
     },
     "metadata": {
      "image/png": {
       "height": 420,
       "width": 420
      }
     },
     "output_type": "display_data"
    }
   ],
   "source": [
    "boxplot(a, horizontal =TRUE)\n",
    "boxplot(b, horizontal = TRUE)"
   ]
  },
  {
   "cell_type": "code",
   "execution_count": 7,
   "id": "liked-occasions",
   "metadata": {
    "execution": {
     "iopub.execute_input": "2021-02-13T21:22:30.531588Z",
     "iopub.status.busy": "2021-02-13T21:22:30.529757Z",
     "iopub.status.idle": "2021-02-13T21:22:30.561789Z",
     "shell.execute_reply": "2021-02-13T21:22:30.560248Z"
    },
    "papermill": {
     "duration": 0.05221,
     "end_time": "2021-02-13T21:22:30.561935",
     "exception": false,
     "start_time": "2021-02-13T21:22:30.509725",
     "status": "completed"
    },
    "tags": []
   },
   "outputs": [
    {
     "data": {
      "text/html": [
       "612.822475824597"
      ],
      "text/latex": [
       "612.822475824597"
      ],
      "text/markdown": [
       "612.822475824597"
      ],
      "text/plain": [
       "[1] 612.8225"
      ]
     },
     "metadata": {},
     "output_type": "display_data"
    },
    {
     "data": {
      "text/html": [
       "561.423075628782"
      ],
      "text/latex": [
       "561.423075628782"
      ],
      "text/markdown": [
       "561.423075628782"
      ],
      "text/plain": [
       "[1] 561.4231"
      ]
     },
     "metadata": {},
     "output_type": "display_data"
    }
   ],
   "source": [
    "var(a)\n",
    "var(b)"
   ]
  },
  {
   "cell_type": "code",
   "execution_count": 8,
   "id": "broad-right",
   "metadata": {
    "execution": {
     "iopub.execute_input": "2021-02-13T21:22:30.602240Z",
     "iopub.status.busy": "2021-02-13T21:22:30.600517Z",
     "iopub.status.idle": "2021-02-13T21:22:30.628481Z",
     "shell.execute_reply": "2021-02-13T21:22:30.626866Z"
    },
    "papermill": {
     "duration": 0.049304,
     "end_time": "2021-02-13T21:22:30.628627",
     "exception": false,
     "start_time": "2021-02-13T21:22:30.579323",
     "status": "completed"
    },
    "tags": []
   },
   "outputs": [
    {
     "data": {
      "text/html": [
       "24.7552514797284"
      ],
      "text/latex": [
       "24.7552514797284"
      ],
      "text/markdown": [
       "24.7552514797284"
      ],
      "text/plain": [
       "[1] 24.75525"
      ]
     },
     "metadata": {},
     "output_type": "display_data"
    },
    {
     "data": {
      "text/html": [
       "23.6943680149689"
      ],
      "text/latex": [
       "23.6943680149689"
      ],
      "text/markdown": [
       "23.6943680149689"
      ],
      "text/plain": [
       "[1] 23.69437"
      ]
     },
     "metadata": {},
     "output_type": "display_data"
    }
   ],
   "source": [
    "sd(a)\n",
    "sd(b)"
   ]
  },
  {
   "cell_type": "code",
   "execution_count": 9,
   "id": "chronic-cattle",
   "metadata": {
    "execution": {
     "iopub.execute_input": "2021-02-13T21:22:30.671367Z",
     "iopub.status.busy": "2021-02-13T21:22:30.669696Z",
     "iopub.status.idle": "2021-02-13T21:22:30.732441Z",
     "shell.execute_reply": "2021-02-13T21:22:30.730758Z"
    },
    "papermill": {
     "duration": 0.085544,
     "end_time": "2021-02-13T21:22:30.732611",
     "exception": false,
     "start_time": "2021-02-13T21:22:30.647067",
     "status": "completed"
    },
    "tags": []
   },
   "outputs": [],
   "source": [
    "library(e1071)"
   ]
  },
  {
   "cell_type": "code",
   "execution_count": 10,
   "id": "retained-trunk",
   "metadata": {
    "execution": {
     "iopub.execute_input": "2021-02-13T21:22:30.778781Z",
     "iopub.status.busy": "2021-02-13T21:22:30.776919Z",
     "iopub.status.idle": "2021-02-13T21:22:30.899455Z",
     "shell.execute_reply": "2021-02-13T21:22:30.897813Z"
    },
    "papermill": {
     "duration": 0.14661,
     "end_time": "2021-02-13T21:22:30.899609",
     "exception": false,
     "start_time": "2021-02-13T21:22:30.752999",
     "status": "completed"
    },
    "tags": []
   },
   "outputs": [
    {
     "data": {
      "text/html": [
       "-0.613616214000154"
      ],
      "text/latex": [
       "-0.613616214000154"
      ],
      "text/markdown": [
       "-0.613616214000154"
      ],
      "text/plain": [
       "[1] -0.6136162"
      ]
     },
     "metadata": {},
     "output_type": "display_data"
    },
    {
     "data": {
      "text/html": [
       "-0.295594280691368"
      ],
      "text/latex": [
       "-0.295594280691368"
      ],
      "text/markdown": [
       "-0.295594280691368"
      ],
      "text/plain": [
       "[1] -0.2955943"
      ]
     },
     "metadata": {},
     "output_type": "display_data"
    }
   ],
   "source": [
    "skewness(a)\n",
    "skewness(b)"
   ]
  },
  {
   "cell_type": "code",
   "execution_count": 11,
   "id": "dated-proposition",
   "metadata": {
    "execution": {
     "iopub.execute_input": "2021-02-13T21:22:30.946714Z",
     "iopub.status.busy": "2021-02-13T21:22:30.944898Z",
     "iopub.status.idle": "2021-02-13T21:22:31.053061Z",
     "shell.execute_reply": "2021-02-13T21:22:31.051180Z"
    },
    "papermill": {
     "duration": 0.133301,
     "end_time": "2021-02-13T21:22:31.053253",
     "exception": false,
     "start_time": "2021-02-13T21:22:30.919952",
     "status": "completed"
    },
    "tags": []
   },
   "outputs": [
    {
     "data": {
      "text/html": [
       "-0.705886012793483"
      ],
      "text/latex": [
       "-0.705886012793483"
      ],
      "text/markdown": [
       "-0.705886012793483"
      ],
      "text/plain": [
       "[1] -0.705886"
      ]
     },
     "metadata": {},
     "output_type": "display_data"
    },
    {
     "data": {
      "text/html": [
       "-0.902791320859569"
      ],
      "text/latex": [
       "-0.902791320859569"
      ],
      "text/markdown": [
       "-0.902791320859569"
      ],
      "text/plain": [
       "[1] -0.9027913"
      ]
     },
     "metadata": {},
     "output_type": "display_data"
    }
   ],
   "source": [
    "kurtosis(a)\n",
    "kurtosis(b)"
   ]
  },
  {
   "cell_type": "code",
   "execution_count": 12,
   "id": "numerous-strike",
   "metadata": {
    "execution": {
     "iopub.execute_input": "2021-02-13T21:22:31.105691Z",
     "iopub.status.busy": "2021-02-13T21:22:31.103850Z",
     "iopub.status.idle": "2021-02-13T21:22:31.982939Z",
     "shell.execute_reply": "2021-02-13T21:22:31.981204Z"
    },
    "papermill": {
     "duration": 0.905673,
     "end_time": "2021-02-13T21:22:31.983088",
     "exception": false,
     "start_time": "2021-02-13T21:22:31.077415",
     "status": "completed"
    },
    "tags": []
   },
   "outputs": [
    {
     "name": "stderr",
     "output_type": "stream",
     "text": [
      "Registered S3 method overwritten by 'rmutil':\n",
      "  method         from\n",
      "  print.response httr\n",
      "\n",
      "\n",
      "Attaching package: ‘modeest’\n",
      "\n",
      "\n",
      "The following object is masked from ‘package:e1071’:\n",
      "\n",
      "    skewness\n",
      "\n",
      "\n"
     ]
    },
    {
     "data": {
      "text/html": [
       "72"
      ],
      "text/latex": [
       "72"
      ],
      "text/markdown": [
       "72"
      ],
      "text/plain": [
       "[1] 72"
      ]
     },
     "metadata": {},
     "output_type": "display_data"
    },
    {
     "data": {
      "text/html": [
       "72"
      ],
      "text/latex": [
       "72"
      ],
      "text/markdown": [
       "72"
      ],
      "text/plain": [
       "[1] 72"
      ]
     },
     "metadata": {},
     "output_type": "display_data"
    }
   ],
   "source": [
    "library(modeest)\n",
    "mfv(a)\n",
    "mfv(b)"
   ]
  }
 ],
 "metadata": {
  "kernelspec": {
   "display_name": "R",
   "language": "R",
   "name": "ir"
  },
  "language_info": {
   "codemirror_mode": "r",
   "file_extension": ".r",
   "mimetype": "text/x-r-source",
   "name": "R",
   "pygments_lexer": "r",
   "version": "3.6.3"
  },
  "papermill": {
   "default_parameters": {},
   "duration": 7.736887,
   "end_time": "2021-02-13T21:22:32.116993",
   "environment_variables": {},
   "exception": null,
   "input_path": "__notebook__.ipynb",
   "output_path": "__notebook__.ipynb",
   "parameters": {},
   "start_time": "2021-02-13T21:22:24.380106",
   "version": "2.3.2"
  }
 },
 "nbformat": 4,
 "nbformat_minor": 5
}
